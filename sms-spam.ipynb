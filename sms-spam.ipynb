{
 "metadata": {
  "name": "",
  "signature": "sha256:faba6d87af6f285ddb57aa0611981679d678931243d4c04bbf92bfef0f30e3e5"
 },
 "nbformat": 3,
 "nbformat_minor": 0,
 "worksheets": [
  {
   "cells": [
    {
     "cell_type": "code",
     "collapsed": false,
     "input": [
      "import sklearn as skl\n",
      "import numpy as np\n",
      "import matplotlib.pyplot as plt\n",
      "from textblob import TextBlob as tb\n"
     ],
     "language": "python",
     "metadata": {},
     "outputs": [],
     "prompt_number": 1
    },
    {
     "cell_type": "code",
     "collapsed": false,
     "input": [
      "with open(\"SMSSpamCollection\") as f:\n",
      "    full_collection = f.readlines()\n",
      "    \n",
      "len(full_collection)"
     ],
     "language": "python",
     "metadata": {},
     "outputs": [
      {
       "metadata": {},
       "output_type": "pyout",
       "prompt_number": 2,
       "text": [
        "5574"
       ]
      }
     ],
     "prompt_number": 2
    },
    {
     "cell_type": "code",
     "collapsed": false,
     "input": [
      "train = full_collection[0:3300]\n",
      "test = full_collection[3301:]"
     ],
     "language": "python",
     "metadata": {},
     "outputs": [],
     "prompt_number": 3
    },
    {
     "cell_type": "code",
     "collapsed": false,
     "input": [
      "blobtrain = [tb(sentence) for sentence in train]"
     ],
     "language": "python",
     "metadata": {},
     "outputs": [],
     "prompt_number": 4
    },
    {
     "cell_type": "code",
     "collapsed": false,
     "input": [
      "ham = [blob for blob in blobtrain if blob.words[0] == \"ham\"]"
     ],
     "language": "python",
     "metadata": {},
     "outputs": [],
     "prompt_number": 6
    },
    {
     "cell_type": "code",
     "collapsed": false,
     "input": [
      "spam = [blob for blob in blobtrain if blob.words[0] == \"spam\"]"
     ],
     "language": "python",
     "metadata": {},
     "outputs": [],
     "prompt_number": 7
    },
    {
     "cell_type": "code",
     "collapsed": false,
     "input": [
      "import operator\n",
      "import collections\n",
      "\n",
      "\n",
      "def common_words(blob_list, num):\n",
      "    word_dictionary =  collections.Counter()\n",
      "    for blob in blob_list:\n",
      "        for word in blob.words:\n",
      "            if word in word_dictionary.keys():\n",
      "                word_dictionary[word] += 1\n",
      "            else:\n",
      "                word_dictionary[word] = 1\n",
      "    most_common = word_dictionary.most_common(num) \n",
      "    return most_common"
     ],
     "language": "python",
     "metadata": {},
     "outputs": [],
     "prompt_number": 47
    },
    {
     "cell_type": "code",
     "collapsed": false,
     "input": [
      "ham_words = common_words(ham, 1000)"
     ],
     "language": "python",
     "metadata": {},
     "outputs": [],
     "prompt_number": 49
    },
    {
     "cell_type": "code",
     "collapsed": false,
     "input": [
      "spam_words = common_words(spam, 1000)"
     ],
     "language": "python",
     "metadata": {},
     "outputs": [],
     "prompt_number": 52
    },
    {
     "cell_type": "code",
     "collapsed": false,
     "input": [],
     "language": "python",
     "metadata": {},
     "outputs": [],
     "prompt_number": 58
    },
    {
     "cell_type": "code",
     "collapsed": false,
     "input": [],
     "language": "python",
     "metadata": {},
     "outputs": []
    }
   ],
   "metadata": {}
  }
 ]
}